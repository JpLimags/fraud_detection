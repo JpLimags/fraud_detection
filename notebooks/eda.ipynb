{
 "cells": [
  {
   "cell_type": "markdown",
   "id": "f439b217",
   "metadata": {},
   "source": [
    "The idea for this project came after reading a 2024 PwC report highlighting the immense scale of global financial fraud, which results in trillions of dollars in losses annually. With the growing usage of instant payment systems like Pix and Zelle, as well as the rapid expansion of e-commerce, fraud incidents are becoming more frequent and sophisticated. Traditional rule-based systems often fall short in identifying modern fraud patterns.\n",
    "\n",
    "This motivated me to explore how modern Machine Learning techniques can be applied to build a robust, modular, and explainable pipeline for fraud detection. The focus is on practical implementation, reproducibility, and the application of best practices in MLOps.\n",
    "\n",
    "\n",
    "\n",
    "The dataset was released as part of the IEEE-CIS Fraud Detection competition and sourced from real-world e-commerce transactions provided by Vesta Corporation. It features over 590,000 transactions (about 3.5% labeled as fraudulent), each described by **431 features**—including 31 categorical and 400 numerical features—along with a relative timestamp and a binary fraud label :contentReference[oaicite:1]{index=1}.\n",
    "\n",
    "---\n",
    "\n",
    "### 📁 Data Files\n",
    "\n",
    "- `train_transaction.csv` – Transaction-level data used for training (includes the target `isFraud`)\n",
    "- `train_identity.csv` – Identity information linked to the training set\n",
    "- `test_transaction.csv` – Transaction-level data for testing (without `isFraud`)\n",
    "- `test_identity.csv` – Identity information linked to the test set\n",
    "\n",
    "\n",
    "###  Dataset Statistics\n",
    "\n",
    "| Metric                 | Value                       |\n",
    "|------------------------|-----------------------------|\n",
    "| Total transactions     | ~590,540                    |\n",
    "| Fraudulent cases       | ~20,663 (≈ 3.5%)            |\n",
    "| Numerical features     | 400                         |\n",
    "| Categorical features   | 31                          |\n",
    "\n",
    "\n",
    "\n",
    "### Variable Dictionary\n",
    "\n",
    "| Column              | Description                                                                 |\n",
    "|---------------------|-----------------------------------------------------------------------------|\n",
    "| `TransactionID`     | Unique identifier for each transaction                                       |\n",
    "| `TransactionDT`     | Time difference from a reference start point                                |\n",
    "| `TransactionAmt`    | Transaction amount                                                          |\n",
    "| `ProductCD`         | Product code (e.g., A, B, C, D, E)                                          |\n",
    "| `card1`–`card6`     | Payment card attributes (issuer ID, type, category, etc.)                  |\n",
    "| `addr1`, `addr2`    | Address information                                                         |\n",
    "| `dist1`, `dist2`    | Distance between billing and delivery addresses                            |\n",
    "| `P_emaildomain`     | Purchaser’s email domain                                                    |\n",
    "| `R_emaildomain`     | Recipient’s email domain                                                    |\n",
    "| `C1`–`C14`          | Count features engineered by Vesta                                          |\n",
    "| `D1`–`D15`          | Time deltas related to prior user behavior                                  |\n",
    "| `M1`–`M9`           | Match flags (binary indicators like address match, card match, etc.)        |\n",
    "| `V1`–`V339`         | Anonymized numerical features (PCA-like, designed to mask raw values)       |\n",
    "| `DeviceType`        | Device type used for transaction (desktop or mobile)                        |\n",
    "| `DeviceInfo`        | Device details including OS and browser models                              |\n",
    "| `isFraud`           | Target variable: 1 indicates fraud, 0 indicates legitimate transaction (training set only) |\n",
    "\n",
    "> **Note:** Many features have been anonymized for privacy reasons, but the dataset still provides rich signal for pattern detection."
   ]
  },
  {
   "cell_type": "code",
   "execution_count": null,
   "id": "a6a728a0",
   "metadata": {
    "vscode": {
     "languageId": "plaintext"
    }
   },
   "outputs": [],
   "source": []
  }
 ],
 "metadata": {
  "kernelspec": {
   "display_name": "env",
   "language": "python",
   "name": "python3"
  },
  "language_info": {
   "codemirror_mode": {
    "name": "ipython",
    "version": 3
   },
   "file_extension": ".py",
   "mimetype": "text/x-python",
   "name": "python",
   "nbconvert_exporter": "python",
   "pygments_lexer": "ipython3",
   "version": "3.12.1"
  }
 },
 "nbformat": 4,
 "nbformat_minor": 5
}
