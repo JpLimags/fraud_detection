{
 "cells": [
  {
   "cell_type": "code",
   "execution_count": null,
   "id": "c784c773",
   "metadata": {},
   "outputs": [],
   "source": [
    "import os\n",
    "import json\n",
    "\n",
    "\n",
    "kaggle_token_path = os.path.join(r\"C:\\Users\\Jp Lima\\.kaggle\", \"kaggle.json\")\n",
    "\n",
    "with open(kaggle_token_path, \"r\") as file:\n",
    "    kaggle_token = json.load(file)\n",
    "\n",
    "os.environ['KAGGLE_USERNAME'] = kaggle_token['username']\n",
    "os.environ['KAGGLE_KEY'] = kaggle_token['key']\n"
   ]
  },
  {
   "cell_type": "code",
   "execution_count": null,
   "id": "1839c589",
   "metadata": {},
   "outputs": [
    {
     "ename": "SyntaxError",
     "evalue": "invalid syntax (1825012509.py, line 1)",
     "output_type": "error",
     "traceback": [
      "  \u001b[36mCell\u001b[39m\u001b[36m \u001b[39m\u001b[32mIn[6]\u001b[39m\u001b[32m, line 1\u001b[39m\n\u001b[31m    \u001b[39m\u001b[31mkaggle datasets download -d mlg-ulb/creditcardfraud -p data/ --unzip\u001b[39m\n           ^\n\u001b[31mSyntaxError\u001b[39m\u001b[31m:\u001b[39m invalid syntax\n"
     ]
    }
   ],
   "source": []
  }
 ],
 "metadata": {
  "kernelspec": {
   "display_name": "env",
   "language": "python",
   "name": "python3"
  },
  "language_info": {
   "codemirror_mode": {
    "name": "ipython",
    "version": 3
   },
   "file_extension": ".py",
   "mimetype": "text/x-python",
   "name": "python",
   "nbconvert_exporter": "python",
   "pygments_lexer": "ipython3",
   "version": "3.12.1"
  }
 },
 "nbformat": 4,
 "nbformat_minor": 5
}
